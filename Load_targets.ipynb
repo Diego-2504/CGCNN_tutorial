{
 "cells": [
  {
   "cell_type": "code",
   "execution_count": 1,
   "id": "bba49b88",
   "metadata": {},
   "outputs": [],
   "source": [
    "from pymatgen.ext.matproj import MPRester #Pymatgen (Python Materials Genomics) is a robust, \n",
    "#open-source Python library for materials analysis."
   ]
  },
  {
   "cell_type": "code",
   "execution_count": 2,
   "id": "9b1edc68",
   "metadata": {},
   "outputs": [],
   "source": [
    "import csv #Package to read csv files"
   ]
  },
  {
   "cell_type": "code",
   "execution_count": 3,
   "id": "818af15a",
   "metadata": {},
   "outputs": [],
   "source": [
    "materials_id=[] #List to store the materials project id\n",
    "with open('/home/mlgraphs/Diego/CGCNN/cgcnn/data/material-data/mp-ids-46744.csv') as csv_file: #Open the csv file\n",
    "    csv_reader = csv.reader(csv_file) #Read the csv file \n",
    "    for row in csv_reader: #Loop over the rows\n",
    "        materials_id.append(row[0]) #Add the material id to the list"
   ]
  },
  {
   "cell_type": "code",
   "execution_count": 4,
   "id": "10b01f28",
   "metadata": {},
   "outputs": [
    {
     "name": "stdout",
     "output_type": "stream",
     "text": [
      "The materials ID of the first crystal is:  mp-754118\n",
      "The total number of crystals is:  46744\n"
     ]
    }
   ],
   "source": [
    "print('The materials ID of the first crystal is: ',materials_id[0])\n",
    "print('The total number of crystals is: ',len(materials_id))"
   ]
  },
  {
   "cell_type": "code",
   "execution_count": 7,
   "id": "5112d94e",
   "metadata": {},
   "outputs": [],
   "source": [
    "prop='band_gap'"
   ]
  },
  {
   "cell_type": "code",
   "execution_count": 12,
   "id": "7fff2af7",
   "metadata": {},
   "outputs": [
    {
     "data": {
      "text/plain": [
       "{'energy': -56.66785733,\n",
       " 'energy_per_atom': -6.296428592222222,\n",
       " 'volume': 117.06920404587619,\n",
       " 'formation_energy_per_atom': -2.243040793796296,\n",
       " 'nsites': 9,\n",
       " 'unit_cell_formula': {'Sr': 1.0, 'As': 2.0, 'O': 6.0},\n",
       " 'pretty_formula': 'Sr(AsO3)2',\n",
       " 'is_hubbard': False,\n",
       " 'elements': ['As', 'O', 'Sr'],\n",
       " 'nelements': 3,\n",
       " 'e_above_hull': 0.0003190866666669123,\n",
       " 'hubbards': {},\n",
       " 'is_compatible': True,\n",
       " 'spacegroup': {'symprec': 0.1,\n",
       "  'source': 'spglib',\n",
       "  'symbol': 'P-31m',\n",
       "  'number': 162,\n",
       "  'point_group': '-3m',\n",
       "  'crystal_system': 'trigonal',\n",
       "  'hall': '-P 3 2'},\n",
       " 'task_ids': ['mp-783766',\n",
       "  'mp-786712',\n",
       "  'mp-754118',\n",
       "  'mp-784540',\n",
       "  'mp-1430027',\n",
       "  'mp-1592022',\n",
       "  'mp-1703519'],\n",
       " 'band_gap': 3.284,\n",
       " 'density': 4.729874926934848,\n",
       " 'icsd_id': None,\n",
       " 'icsd_ids': [420296],\n",
       " 'cif': \"# generated using pymatgen\\ndata_Sr(AsO3)2\\n_symmetry_space_group_name_H-M   'P 1'\\n_cell_length_a   4.94714950\\n_cell_length_b   4.94714950\\n_cell_length_c   5.52334200\\n_cell_angle_alpha   90.00000000\\n_cell_angle_beta   90.00000000\\n_cell_angle_gamma   119.99999333\\n_symmetry_Int_Tables_number   1\\n_chemical_formula_structural   Sr(AsO3)2\\n_chemical_formula_sum   'Sr1 As2 O6'\\n_cell_volume   117.06920405\\n_cell_formula_units_Z   1\\nloop_\\n _symmetry_equiv_pos_site_id\\n _symmetry_equiv_pos_as_xyz\\n  1  'x, y, z'\\nloop_\\n _atom_site_type_symbol\\n _atom_site_label\\n _atom_site_symmetry_multiplicity\\n _atom_site_fract_x\\n _atom_site_fract_y\\n _atom_site_fract_z\\n _atom_site_occupancy\\n  Sr  Sr0  1  0.00000000  0.00000000  0.00000000  1\\n  As  As1  1  0.33333300  0.66666700  0.50000000  1\\n  As  As2  1  0.66666700  0.33333300  0.50000000  1\\n  O  O3  1  0.00000000  0.61751500  0.69151800  1\\n  O  O4  1  0.00000000  0.38248500  0.30848200  1\\n  O  O5  1  0.38248500  0.38248500  0.69151800  1\\n  O  O6  1  0.61751500  0.61751500  0.30848200  1\\n  O  O7  1  0.38248500  0.00000000  0.30848200  1\\n  O  O8  1  0.61751500  0.00000000  0.69151800  1\\n\",\n",
       " 'total_magnetization': 0.0,\n",
       " 'material_id': 'mp-754118',\n",
       " 'oxide_type': 'oxide',\n",
       " 'tags': ['Strontium diarsenate(V) - alpha'],\n",
       " 'elasticity': None,\n",
       " 'piezo': None,\n",
       " 'diel': None,\n",
       " 'deprecated': False,\n",
       " 'full_formula': 'Sr1As2O6'}"
      ]
     },
     "execution_count": 12,
     "metadata": {},
     "output_type": "execute_result"
    }
   ],
   "source": [
    "data=mpr.get_data(mp_id)\n",
    "data[0]"
   ]
  },
  {
   "cell_type": "code",
   "execution_count": 6,
   "id": "6c3fb456",
   "metadata": {},
   "outputs": [
    {
     "ename": "NameError",
     "evalue": "name 'prop' is not defined",
     "output_type": "error",
     "traceback": [
      "\u001b[0;31m---------------------------------------------------------------------------\u001b[0m",
      "\u001b[0;31mNameError\u001b[0m                                 Traceback (most recent call last)",
      "\u001b[1;32m/home/mlgraphs/Diego/CGCNN/cgcnn/Load_targets.ipynb Cell 9'\u001b[0m in \u001b[0;36m<cell line: 6>\u001b[0;34m()\u001b[0m\n\u001b[1;32m      <a href='vscode-notebook-cell://ssh-remote%2B132.248.7.196/home/mlgraphs/Diego/CGCNN/cgcnn/Load_targets.ipynb#ch0000008vscode-remote?line=2'>3</a>\u001b[0m mp_id \u001b[39m=\u001b[39m materials_id[\u001b[39m0\u001b[39m]\n\u001b[1;32m      <a href='vscode-notebook-cell://ssh-remote%2B132.248.7.196/home/mlgraphs/Diego/CGCNN/cgcnn/Load_targets.ipynb#ch0000008vscode-remote?line=3'>4</a>\u001b[0m mp_id\u001b[39m=\u001b[39mmpr\u001b[39m.\u001b[39mget_materials_id_from_task_id(mp_id)\u001b[39m# mp-id \u001b[39;00m\n\u001b[1;32m      <a href='vscode-notebook-cell://ssh-remote%2B132.248.7.196/home/mlgraphs/Diego/CGCNN/cgcnn/Load_targets.ipynb#ch0000008vscode-remote?line=4'>5</a>\u001b[0m properties \u001b[39m=\u001b[39m [\n\u001b[0;32m----> <a href='vscode-notebook-cell://ssh-remote%2B132.248.7.196/home/mlgraphs/Diego/CGCNN/cgcnn/Load_targets.ipynb#ch0000008vscode-remote?line=5'>6</a>\u001b[0m     prop\n\u001b[1;32m      <a href='vscode-notebook-cell://ssh-remote%2B132.248.7.196/home/mlgraphs/Diego/CGCNN/cgcnn/Load_targets.ipynb#ch0000008vscode-remote?line=6'>7</a>\u001b[0m ]\n\u001b[1;32m      <a href='vscode-notebook-cell://ssh-remote%2B132.248.7.196/home/mlgraphs/Diego/CGCNN/cgcnn/Load_targets.ipynb#ch0000008vscode-remote?line=7'>8</a>\u001b[0m data \u001b[39m=\u001b[39m mpr\u001b[39m.\u001b[39mquery(mp_id, properties)\n",
      "\u001b[0;31mNameError\u001b[0m: name 'prop' is not defined"
     ]
    }
   ],
   "source": [
    "MAPI_KEY = \"lqhpkTOZo39u7SAV\"  # Materials API key\n",
    "mpr = MPRester(MAPI_KEY)  # object for connecting to MP Rest interface\n",
    "mp_id = materials_id[0]\n",
    "mp_id=mpr.get_materials_id_from_task_id(mp_id)# mp-id \n",
    "properties = [\n",
    "    prop\n",
    "]\n",
    "data = mpr.query(mp_id, properties)"
   ]
  },
  {
   "cell_type": "code",
   "execution_count": 9,
   "id": "6e5fd3c5",
   "metadata": {},
   "outputs": [
    {
     "data": {
      "text/plain": [
       "[{'band_gap': 3.284}]"
      ]
     },
     "execution_count": 9,
     "metadata": {},
     "output_type": "execute_result"
    }
   ],
   "source": [
    "data"
   ]
  },
  {
   "cell_type": "code",
   "execution_count": 10,
   "id": "56392990",
   "metadata": {},
   "outputs": [
    {
     "data": {
      "text/plain": [
       "['mp-754118', 3.284]"
      ]
     },
     "execution_count": 10,
     "metadata": {},
     "output_type": "execute_result"
    }
   ],
   "source": [
    "target=[mp_id,data[0][prop]]\n",
    "target"
   ]
  },
  {
   "cell_type": "code",
   "execution_count": 40,
   "id": "b63521d4",
   "metadata": {},
   "outputs": [],
   "source": [
    "with open('data/id_prop.csv', 'w') as myfile:\n",
    "    wr = csv.writer(myfile)\n",
    "    wr.writerow(target)"
   ]
  },
  {
   "cell_type": "code",
   "execution_count": 10,
   "id": "42de3ea0",
   "metadata": {},
   "outputs": [
    {
     "name": "stdout",
     "output_type": "stream",
     "text": [
      "0\n"
     ]
    },
    {
     "ename": "MPRestError",
     "evalue": "REST query returned with error status code 503. Content: b'<!DOCTYPE HTML PUBLIC \"-//IETF//DTD HTML 2.0//EN\">\\n<html><head>\\n<title>503 Service Unavailable</title>\\n</head><body>\\n<h1>Service Unavailable</h1>\\n<p>The server is temporarily unable to service your\\nrequest due to maintenance downtime or capacity\\nproblems. Please try again later.</p>\\n<hr>\\n<address>Apache/2.4.41 (Ubuntu) Server at materialsproject.org Port 80</address>\\n</body></html>\\n'",
     "output_type": "error",
     "traceback": [
      "\u001b[0;31m---------------------------------------------------------------------------\u001b[0m",
      "\u001b[0;31mMPRestError\u001b[0m                               Traceback (most recent call last)",
      "File \u001b[0;32m~/anaconda3/envs/cgcnn/lib/python3.8/site-packages/pymatgen/ext/matproj.py:275\u001b[0m, in \u001b[0;36mMPRester._make_request\u001b[0;34m(self, sub_url, payload, method, mp_decode)\u001b[0m\n\u001b[1;32m    <a href='file:///home/mlgraphs/anaconda3/envs/cgcnn/lib/python3.8/site-packages/pymatgen/ext/matproj.py?line=272'>273</a>\u001b[0m         \u001b[39mraise\u001b[39;00m MPRestError(data[\u001b[39m\"\u001b[39m\u001b[39merror\u001b[39m\u001b[39m\"\u001b[39m])\n\u001b[0;32m--> <a href='file:///home/mlgraphs/anaconda3/envs/cgcnn/lib/python3.8/site-packages/pymatgen/ext/matproj.py?line=274'>275</a>\u001b[0m     \u001b[39mraise\u001b[39;00m MPRestError(\u001b[39mf\u001b[39m\u001b[39m\"\u001b[39m\u001b[39mREST query returned with error status code \u001b[39m\u001b[39m{\u001b[39;00mresponse\u001b[39m.\u001b[39mstatus_code\u001b[39m}\u001b[39;00m\u001b[39m\"\u001b[39m)\n\u001b[1;32m    <a href='file:///home/mlgraphs/anaconda3/envs/cgcnn/lib/python3.8/site-packages/pymatgen/ext/matproj.py?line=276'>277</a>\u001b[0m \u001b[39mexcept\u001b[39;00m \u001b[39mException\u001b[39;00m \u001b[39mas\u001b[39;00m ex:\n",
      "\u001b[0;31mMPRestError\u001b[0m: REST query returned with error status code 503",
      "\nDuring handling of the above exception, another exception occurred:\n",
      "\u001b[0;31mMPRestError\u001b[0m                               Traceback (most recent call last)",
      "\u001b[1;32m/home/mlgraphs/CGCNN/cgcnn/Load_targets.ipynb Cell 10'\u001b[0m in \u001b[0;36m<cell line: 3>\u001b[0;34m()\u001b[0m\n\u001b[1;32m      <a href='vscode-notebook-cell://ssh-remote%2Bgraphs/home/mlgraphs/CGCNN/cgcnn/Load_targets.ipynb#ch0000009vscode-remote?line=3'>4</a>\u001b[0m mp_id_i \u001b[39m=\u001b[39m materials_id[i]\n\u001b[1;32m      <a href='vscode-notebook-cell://ssh-remote%2Bgraphs/home/mlgraphs/CGCNN/cgcnn/Load_targets.ipynb#ch0000009vscode-remote?line=4'>5</a>\u001b[0m mp_id_i\u001b[39m=\u001b[39mmpr\u001b[39m.\u001b[39mget_materials_id_from_task_id(mp_id_i)\n\u001b[0;32m----> <a href='vscode-notebook-cell://ssh-remote%2Bgraphs/home/mlgraphs/CGCNN/cgcnn/Load_targets.ipynb#ch0000009vscode-remote?line=5'>6</a>\u001b[0m data_i \u001b[39m=\u001b[39m mpr\u001b[39m.\u001b[39;49mquery(mp_id_i, properties)\n\u001b[1;32m      <a href='vscode-notebook-cell://ssh-remote%2Bgraphs/home/mlgraphs/CGCNN/cgcnn/Load_targets.ipynb#ch0000009vscode-remote?line=6'>7</a>\u001b[0m target_i\u001b[39m=\u001b[39m[mp_id_i,data_i[\u001b[39m0\u001b[39m][prop]]\n\u001b[1;32m      <a href='vscode-notebook-cell://ssh-remote%2Bgraphs/home/mlgraphs/CGCNN/cgcnn/Load_targets.ipynb#ch0000009vscode-remote?line=7'>8</a>\u001b[0m target\u001b[39m.\u001b[39mappend(target_i)\n",
      "File \u001b[0;32m~/anaconda3/envs/cgcnn/lib/python3.8/site-packages/pymatgen/ext/matproj.py:1018\u001b[0m, in \u001b[0;36mMPRester.query\u001b[0;34m(self, criteria, properties, chunk_size, max_tries_per_chunk, mp_decode, show_progress_bar)\u001b[0m\n\u001b[1;32m   <a href='file:///home/mlgraphs/anaconda3/envs/cgcnn/lib/python3.8/site-packages/pymatgen/ext/matproj.py?line=1015'>1016</a>\u001b[0m count_payload \u001b[39m=\u001b[39m payload\u001b[39m.\u001b[39mcopy()\n\u001b[1;32m   <a href='file:///home/mlgraphs/anaconda3/envs/cgcnn/lib/python3.8/site-packages/pymatgen/ext/matproj.py?line=1016'>1017</a>\u001b[0m count_payload[\u001b[39m\"\u001b[39m\u001b[39moptions\u001b[39m\u001b[39m\"\u001b[39m] \u001b[39m=\u001b[39m json\u001b[39m.\u001b[39mdumps({\u001b[39m\"\u001b[39m\u001b[39mcount_only\u001b[39m\u001b[39m\"\u001b[39m: \u001b[39mTrue\u001b[39;00m})\n\u001b[0;32m-> <a href='file:///home/mlgraphs/anaconda3/envs/cgcnn/lib/python3.8/site-packages/pymatgen/ext/matproj.py?line=1017'>1018</a>\u001b[0m num_results \u001b[39m=\u001b[39m \u001b[39mself\u001b[39;49m\u001b[39m.\u001b[39;49m_make_request(\u001b[39m\"\u001b[39;49m\u001b[39m/query\u001b[39;49m\u001b[39m\"\u001b[39;49m, payload\u001b[39m=\u001b[39;49mcount_payload, method\u001b[39m=\u001b[39;49m\u001b[39m\"\u001b[39;49m\u001b[39mPOST\u001b[39;49m\u001b[39m\"\u001b[39;49m)\n\u001b[1;32m   <a href='file:///home/mlgraphs/anaconda3/envs/cgcnn/lib/python3.8/site-packages/pymatgen/ext/matproj.py?line=1018'>1019</a>\u001b[0m \u001b[39mif\u001b[39;00m num_results \u001b[39m<\u001b[39m\u001b[39m=\u001b[39m chunk_size:\n\u001b[1;32m   <a href='file:///home/mlgraphs/anaconda3/envs/cgcnn/lib/python3.8/site-packages/pymatgen/ext/matproj.py?line=1019'>1020</a>\u001b[0m     \u001b[39mreturn\u001b[39;00m \u001b[39mself\u001b[39m\u001b[39m.\u001b[39m_make_request(\u001b[39m\"\u001b[39m\u001b[39m/query\u001b[39m\u001b[39m\"\u001b[39m, payload\u001b[39m=\u001b[39mpayload, method\u001b[39m=\u001b[39m\u001b[39m\"\u001b[39m\u001b[39mPOST\u001b[39m\u001b[39m\"\u001b[39m, mp_decode\u001b[39m=\u001b[39mmp_decode)\n",
      "File \u001b[0;32m~/anaconda3/envs/cgcnn/lib/python3.8/site-packages/pymatgen/ext/matproj.py:279\u001b[0m, in \u001b[0;36mMPRester._make_request\u001b[0;34m(self, sub_url, payload, method, mp_decode)\u001b[0m\n\u001b[1;32m    <a href='file:///home/mlgraphs/anaconda3/envs/cgcnn/lib/python3.8/site-packages/pymatgen/ext/matproj.py?line=276'>277</a>\u001b[0m \u001b[39mexcept\u001b[39;00m \u001b[39mException\u001b[39;00m \u001b[39mas\u001b[39;00m ex:\n\u001b[1;32m    <a href='file:///home/mlgraphs/anaconda3/envs/cgcnn/lib/python3.8/site-packages/pymatgen/ext/matproj.py?line=277'>278</a>\u001b[0m     msg \u001b[39m=\u001b[39m \u001b[39mf\u001b[39m\u001b[39m\"\u001b[39m\u001b[39m{\u001b[39;00mex\u001b[39m}\u001b[39;00m\u001b[39m. Content: \u001b[39m\u001b[39m{\u001b[39;00mresponse\u001b[39m.\u001b[39mcontent\u001b[39m}\u001b[39;00m\u001b[39m\"\u001b[39m \u001b[39mif\u001b[39;00m \u001b[39mhasattr\u001b[39m(response, \u001b[39m\"\u001b[39m\u001b[39mcontent\u001b[39m\u001b[39m\"\u001b[39m) \u001b[39melse\u001b[39;00m \u001b[39mstr\u001b[39m(ex)\n\u001b[0;32m--> <a href='file:///home/mlgraphs/anaconda3/envs/cgcnn/lib/python3.8/site-packages/pymatgen/ext/matproj.py?line=278'>279</a>\u001b[0m     \u001b[39mraise\u001b[39;00m MPRestError(msg)\n",
      "\u001b[0;31mMPRestError\u001b[0m: REST query returned with error status code 503. Content: b'<!DOCTYPE HTML PUBLIC \"-//IETF//DTD HTML 2.0//EN\">\\n<html><head>\\n<title>503 Service Unavailable</title>\\n</head><body>\\n<h1>Service Unavailable</h1>\\n<p>The server is temporarily unable to service your\\nrequest due to maintenance downtime or capacity\\nproblems. Please try again later.</p>\\n<hr>\\n<address>Apache/2.4.41 (Ubuntu) Server at materialsproject.org Port 80</address>\\n</body></html>\\n'"
     ]
    }
   ],
   "source": [
    "target=[]\n",
    "#Just run the cell once to create the CSV file\n",
    "for i in range(len(materials_id)):\n",
    "    mp_id_i = materials_id[i]\n",
    "    mp_id_i=mpr.get_materials_id_from_task_id(mp_id_i)\n",
    "    data_i = mpr.query(mp_id_i, properties)\n",
    "    target_i=[mp_id_i,data_i[0][prop]]\n",
    "    target.append(target_i)\n",
    "    if i%100==0:\n",
    "        print(i)"
   ]
  },
  {
   "cell_type": "code",
   "execution_count": 42,
   "id": "f3b43449",
   "metadata": {},
   "outputs": [],
   "source": [
    "with open('data/id_prop_total_energy.csv', 'w') as myfile:\n",
    "    wr = csv.writer(myfile)\n",
    "    wr.writerows(target)"
   ]
  },
  {
   "cell_type": "code",
   "execution_count": null,
   "id": "24759d27",
   "metadata": {},
   "outputs": [],
   "source": []
  }
 ],
 "metadata": {
  "interpreter": {
   "hash": "8b5c71f93099a85b2d72eec931b84f651c0c07cdd127fc1ddf9c52d2b5c494f5"
  },
  "kernelspec": {
   "display_name": "Python 3.8.12 ('cgcnn')",
   "language": "python",
   "name": "python3"
  },
  "language_info": {
   "codemirror_mode": {
    "name": "ipython",
    "version": 3
   },
   "file_extension": ".py",
   "mimetype": "text/x-python",
   "name": "python",
   "nbconvert_exporter": "python",
   "pygments_lexer": "ipython3",
   "version": "3.8.12"
  }
 },
 "nbformat": 4,
 "nbformat_minor": 5
}
