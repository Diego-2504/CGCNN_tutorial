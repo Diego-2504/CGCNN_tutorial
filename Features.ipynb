{
 "cells": [
  {
   "cell_type": "markdown",
   "id": "0ba13c91",
   "metadata": {},
   "source": [
    "# <center> **Atom and bond feature analysis**"
   ]
  },
  {
   "cell_type": "markdown",
   "id": "902a4847",
   "metadata": {},
   "source": [
    "<font size=4>\n",
    "    \n",
    "Atom and bond properties are encoded in node feature vectors $v_i$ and edge feature vectors $u_{(i,j)_k}$ using one hot encoding. For discrete values, the vectors are encoded according to the category that the value belongs to; for continuous values, the range of property values is evenly divided to 10 categories and the vectors are encoded accordingly."
   ]
  },
  {
   "cell_type": "markdown",
   "id": "6faff336",
   "metadata": {},
   "source": [
    "##  Atom feature"
   ]
  },
  {
   "cell_type": "markdown",
   "id": "f90cb386",
   "metadata": {},
   "source": [
    "<font size=4>\n",
    "\n",
    "For the atom properties a json file is used where a dictionary is defined with the atomic number as the key and the vector one hot encoding as itś corresponding value."
   ]
  },
  {
   "cell_type": "code",
   "execution_count": 2,
   "id": "bdebd8c0",
   "metadata": {},
   "outputs": [],
   "source": [
    "import json  #A JSON file is a file that stores simple data structures and objects in JavaScript Object Notation (JSON) \n",
    "#format, which is a standard data interchange format. \n",
    "import numpy as np\n",
    "import torch"
   ]
  },
  {
   "cell_type": "markdown",
   "id": "04080d3e",
   "metadata": {},
   "source": [
    "<font size=4>\n",
    "    \n",
    "To read the json file and define the python dictionary, two classes are created, the first one is use to initialize the dictionary to be created and to load the state dict and the second class to read the file and store the values of the dictionary."
   ]
  },
  {
   "cell_type": "code",
   "execution_count": 3,
   "id": "45a60cf5",
   "metadata": {},
   "outputs": [],
   "source": [
    "class AtomInitializer(object):\n",
    "    \"\"\"\n",
    "    Base class for intializing the vector representation for atoms.\n",
    "\n",
    "    !!! Use one AtomInitializer per dataset !!!\n",
    "    \"\"\"\n",
    "    def __init__(self, atom_types):\n",
    "        self.atom_types = set(atom_types) #Give the atom_types attribute to the object AtomItinializer\n",
    "        self._embedding = {}  #Declare the dictionary as the embedding attribute\n",
    "\n",
    "    def get_atom_fea(self, atom_type): #Function to return the vaule of the corresponding atom_type key\n",
    "        assert atom_type in self.atom_types \n",
    "        return self._embedding[atom_type]"
   ]
  },
  {
   "cell_type": "markdown",
   "id": "b49bf7f9",
   "metadata": {},
   "source": [
    "<font size=4>\n",
    "    \n",
    "To read the json file and define the python dictionary, two classes are created, the first one is use to initialize the dictionary to be created and to load the state dict and the second class to read the file and store the values of the dictionary."
   ]
  },
  {
   "cell_type": "code",
   "execution_count": 4,
   "id": "679718ab",
   "metadata": {},
   "outputs": [],
   "source": [
    "class AtomCustomJSONInitializer(AtomInitializer):\n",
    "    \"\"\"\n",
    "    Initialize atom feature vectors using a JSON file, which is a python\n",
    "    dictionary mapping from element number to a list representing the\n",
    "    feature vector of the element.\n",
    "\n",
    "    Parameters\n",
    "    ----------\n",
    "\n",
    "    elem_embedding_file: str\n",
    "        The path to the .json file\n",
    "    \"\"\"\n",
    "    def __init__(self, elem_embedding_file):\n",
    "        \n",
    "        with open(elem_embedding_file) as f:\n",
    "            elem_embedding = json.load(f) #Load the json file \n",
    "        elem_embedding = {int(key): value for key, value\n",
    "                          in elem_embedding.items()} #Store the values in the dictionary\n",
    "        atom_types = set(elem_embedding.keys()) #Set atom types \n",
    "        super(AtomCustomJSONInitializer, self).__init__(atom_types)\n",
    "        for key, value in elem_embedding.items(): \n",
    "            self._embedding[key] = np.array(value, dtype=float)"
   ]
  },
  {
   "cell_type": "code",
   "execution_count": 5,
   "id": "bb3214cd",
   "metadata": {},
   "outputs": [],
   "source": [
    "#initialize the class\n",
    "afi = AtomCustomJSONInitializer('/home/mlgraphs/CGCNN/cgcnn/data/sample-classification/atom_init.json')"
   ]
  },
  {
   "cell_type": "code",
   "execution_count": 6,
   "id": "268a18d7",
   "metadata": {},
   "outputs": [
    {
     "data": {
      "text/plain": [
       "array([0., 1., 0., 0., 0., 0., 0., 0., 0., 0., 0., 0., 0., 0., 0., 0., 0.,\n",
       "       0., 0., 1., 0., 0., 0., 0., 0., 0., 0., 0., 0., 0., 1., 0., 0., 0.,\n",
       "       0., 0., 1., 0., 0., 0., 0., 0., 0., 0., 0., 0., 1., 0., 0., 0., 0.,\n",
       "       0., 0., 0., 0., 0., 0., 0., 0., 0., 0., 0., 0., 0., 1., 0., 0., 0.,\n",
       "       0., 0., 0., 0., 0., 1., 0., 0., 0., 0., 1., 0., 0., 0., 0., 0., 0.,\n",
       "       0., 1., 0., 0., 0., 0., 0.])"
      ]
     },
     "execution_count": 6,
     "metadata": {},
     "output_type": "execute_result"
    }
   ],
   "source": [
    "H_atomic_number=1\n",
    "H_feature_vector=afi.get_atom_fea(H_atomic_number)\n",
    "H_feature_vector"
   ]
  },
  {
   "cell_type": "code",
   "execution_count": 7,
   "id": "5485d080",
   "metadata": {},
   "outputs": [
    {
     "data": {
      "text/plain": [
       "array([1., 0., 0., 0., 0., 0., 0., 0., 0., 0., 0., 0., 0., 0., 0., 0., 0.,\n",
       "       0., 0., 0., 0., 0., 0., 0., 1., 0., 0., 1., 0., 0., 0., 0., 0., 0.,\n",
       "       0., 0., 0., 0., 0., 0., 0., 0., 1., 0., 0., 0., 0., 1., 0., 0., 0.,\n",
       "       0., 0., 0., 0., 0., 0., 0., 0., 0., 1., 0., 0., 0., 0., 0., 0., 0.,\n",
       "       0., 0., 0., 0., 0., 1., 0., 0., 0., 0., 0., 0., 0., 1., 0., 0., 0.,\n",
       "       0., 0., 1., 0., 0., 0., 0.])"
      ]
     },
     "execution_count": 7,
     "metadata": {},
     "output_type": "execute_result"
    }
   ],
   "source": [
    "La_atomic_number=57\n",
    "La_feature_vector=afi.get_atom_fea(La_atomic_number)\n",
    "La_feature_vector"
   ]
  },
  {
   "cell_type": "markdown",
   "id": "60319df5",
   "metadata": {},
   "source": [
    "<font size=4>\n",
    "\n",
    "But what does this vector represent?\n",
    "    \n",
    "Let's explain it with help of the periodic table"
   ]
  },
  {
   "cell_type": "markdown",
   "id": "e592103a",
   "metadata": {},
   "source": [
    "<img  width=\"700\" height=\"400\" src=\"Media/p_table.svg\" />"
   ]
  },
  {
   "cell_type": "markdown",
   "id": "bef9e3c4",
   "metadata": {},
   "source": [
    "<img  width=\"600\" height=\"200\" src=\"Media/HLa.png\" />"
   ]
  },
  {
   "cell_type": "markdown",
   "id": "a04ffa13",
   "metadata": {},
   "source": [
    "<font size=4>\n",
    "\n",
    "The first 19 places of the vector correspond to the group number. but why 19 places if there are only 18 groups?, well, the first place of the vector is defined as a new group to classify the elements called rare earths.        "
   ]
  },
  {
   "cell_type": "code",
   "execution_count": 8,
   "id": "af9c842c",
   "metadata": {},
   "outputs": [
    {
     "name": "stdout",
     "output_type": "stream",
     "text": [
      "The group number as one hot encoding of the element H is: \n",
      " [0. 1. 0. 0. 0. 0. 0. 0. 0. 0. 0. 0. 0. 0. 0. 0. 0. 0. 0.]\n",
      "The group number as one hot encoding of the element La is: \n",
      " [1. 0. 0. 0. 0. 0. 0. 0. 0. 0. 0. 0. 0. 0. 0. 0. 0. 0. 0.]\n"
     ]
    }
   ],
   "source": [
    "print('The group number as one hot encoding of the element H is: \\n',H_feature_vector[:19])\n",
    "print('The group number as one hot encoding of the element La is: \\n',La_feature_vector[:19])"
   ]
  },
  {
   "cell_type": "markdown",
   "id": "b8e4549f",
   "metadata": {},
   "source": [
    "<font size=4>\n",
    "\n",
    "The next 7 places of the vector correspond to the period number, remember that the lanthanides are period 6 and the actinides period 7.  "
   ]
  },
  {
   "cell_type": "code",
   "execution_count": 9,
   "id": "fc7bfc72",
   "metadata": {},
   "outputs": [
    {
     "name": "stdout",
     "output_type": "stream",
     "text": [
      "The period number as one hot encoding of the element H is: \n",
      " [1. 0. 0. 0. 0. 0. 0.]\n",
      "The period number as one hot encoding of the element La is: \n",
      " [0. 0. 0. 0. 0. 1. 0.]\n"
     ]
    }
   ],
   "source": [
    "print('The period number as one hot encoding of the element H is: \\n',H_feature_vector[19:26])\n",
    "print('The period number as one hot encoding of the element La is: \\n',La_feature_vector[19:26])"
   ]
  },
  {
   "cell_type": "markdown",
   "id": "4557875c",
   "metadata": {},
   "source": [
    "<font size=4>\n",
    "\n",
    "The next 10 places of the vector correspond to the electronegativity, as it is a continuous number then it is divided into 10 categories where each category is a range of values, in this case given that the electronegativity varies from 0.5 to 4.0 the first category will go from 0.5-0.85, the second from 0.85-1.20 ... and the tenth category from 3.65-4.0."
   ]
  },
  {
   "cell_type": "code",
   "execution_count": 10,
   "id": "e61790ed",
   "metadata": {},
   "outputs": [
    {
     "name": "stdout",
     "output_type": "stream",
     "text": [
      "The electronegativity as one hot encoding of the element H is: \n",
      " [0. 0. 0. 0. 1. 0. 0. 0. 0. 0.]\n",
      "The electronegativity as one hot encoding of the element la is: \n",
      " [0. 1. 0. 0. 0. 0. 0. 0. 0. 0.]\n"
     ]
    }
   ],
   "source": [
    "print('The electronegativity as one hot encoding of the element H is: \\n',H_feature_vector[26:36])\n",
    "print('The electronegativity as one hot encoding of the element la is: \\n',La_feature_vector[26:36])"
   ]
  },
  {
   "cell_type": "markdown",
   "id": "be1102a1",
   "metadata": {},
   "source": [
    "<font size=4>\n",
    "\n",
    "The next 10 places of the vector correspond to the covalent radius, again is a continuous number then it is divided into 10 categories where each category is a range of values, in this case given that the covalent radius varies from 25 to 250 the first category will go from 25-47.5, the second from 47.5-70 ... and the tenth category from 227.5-250."
   ]
  },
  {
   "cell_type": "code",
   "execution_count": 11,
   "id": "f79babc8",
   "metadata": {},
   "outputs": [
    {
     "name": "stdout",
     "output_type": "stream",
     "text": [
      "The covalent radius as one hot encoding of the element H is: \n",
      " [1. 0. 0. 0. 0. 0. 0. 0. 0. 0.]\n",
      "The covalent radius as one hot encoding of the element la is: \n",
      " [0. 0. 0. 0. 0. 0. 1. 0. 0. 0.]\n"
     ]
    }
   ],
   "source": [
    "print('The covalent radius as one hot encoding of the element H is: \\n',H_feature_vector[36:46])\n",
    "print('The covalent radius as one hot encoding of the element la is: \\n',La_feature_vector[36:46])"
   ]
  },
  {
   "cell_type": "markdown",
   "id": "c541e2d5",
   "metadata": {},
   "source": [
    "<font size=4>\n",
    "\n",
    "The next 12 places of the vector correspond to the valence electrons."
   ]
  },
  {
   "cell_type": "code",
   "execution_count": 12,
   "id": "aac632a6",
   "metadata": {},
   "outputs": [
    {
     "name": "stdout",
     "output_type": "stream",
     "text": [
      "The valence electrons as one hot encoding of the element H is: \n",
      " [1. 0. 0. 0. 0. 0. 0. 0. 0. 0. 0. 0.]\n",
      "The valence electrons as one hot encoding of the element La is: \n",
      " [0. 1. 0. 0. 0. 0. 0. 0. 0. 0. 0. 0.]\n"
     ]
    }
   ],
   "source": [
    "print('The valence electrons as one hot encoding of the element H is: \\n',H_feature_vector[46:58])\n",
    "print('The valence electrons as one hot encoding of the element La is: \\n',La_feature_vector[46:58])"
   ]
  },
  {
   "cell_type": "markdown",
   "id": "2478eca7",
   "metadata": {},
   "source": [
    "<font size=4>\n",
    "\n",
    "The next 10 places of the vector correspond to the first ionization energy, again is a continuous number then it is divided into 10 categories where each category is a range of values, in this case given that the first ionization energy values are very large, logarithm is applied to scale down and thus the range log values go from 1.3 eV to 3.3 eV thus the first category will go from 1.3-1.5, the second from 1.5-1.7. ... and the tenth category from 3.1-3.3.    "
   ]
  },
  {
   "cell_type": "code",
   "execution_count": 13,
   "id": "5dd632d6",
   "metadata": {},
   "outputs": [
    {
     "name": "stdout",
     "output_type": "stream",
     "text": [
      "The first ionization energy as one hot encoding of the element H is: \n",
      " [0. 0. 0. 0. 0. 0. 1. 0. 0. 0.]\n",
      "The first ionization energy as one hot encoding of the element La is: \n",
      " [0. 0. 1. 0. 0. 0. 0. 0. 0. 0.]\n"
     ]
    }
   ],
   "source": [
    "print('The first ionization energy as one hot encoding of the element H is: \\n',H_feature_vector[58:68])\n",
    "print('The first ionization energy as one hot encoding of the element La is: \\n',La_feature_vector[58:68])"
   ]
  },
  {
   "cell_type": "markdown",
   "id": "f2ed40b5",
   "metadata": {},
   "source": [
    "<font size=4>\n",
    "\n",
    "The next 10 places of the vector correspond to the electron affinity, again is a continuous number then it is divided into 10 categories where each category is a range of values, in this case given that the electron affinity varies from -3 eV to 3.7 eV the first category will go from -3-2.33, the second from -2.33--1.66 ... and the tenth category from 3.03-3.7."
   ]
  },
  {
   "cell_type": "code",
   "execution_count": 14,
   "id": "2cec1225",
   "metadata": {},
   "outputs": [
    {
     "name": "stdout",
     "output_type": "stream",
     "text": [
      "The electron affinity as one hot encoding of the element H is: \n",
      " [0. 0. 0. 0. 0. 1. 0. 0. 0. 0.]\n",
      "The electron affinity as one hot encoding of the element La is: \n",
      " [0. 0. 0. 0. 0. 1. 0. 0. 0. 0.]\n"
     ]
    }
   ],
   "source": [
    "print('The electron affinity as one hot encoding of the element H is: \\n',H_feature_vector[68:78])\n",
    "print('The electron affinity as one hot encoding of the element La is: \\n',La_feature_vector[68:78])"
   ]
  },
  {
   "cell_type": "markdown",
   "id": "714fe73d",
   "metadata": {},
   "source": [
    "<font size=4>\n",
    "\n",
    "The next 4 places of the vector correspond to the block. The range is: s,p,d,f."
   ]
  },
  {
   "cell_type": "code",
   "execution_count": 15,
   "id": "23daa928",
   "metadata": {},
   "outputs": [
    {
     "name": "stdout",
     "output_type": "stream",
     "text": [
      "The block as one hot encoding of the element H is: \n",
      " [1. 0. 0. 0.]\n",
      "The block as one hot encoding of the element La is: \n",
      " [0. 0. 0. 1.]\n"
     ]
    }
   ],
   "source": [
    "print('The block as one hot encoding of the element H is: \\n',H_feature_vector[78:82])\n",
    "print('The block as one hot encoding of the element La is: \\n',La_feature_vector[78:82])"
   ]
  },
  {
   "cell_type": "markdown",
   "id": "f69fa08f",
   "metadata": {},
   "source": [
    "<font size=4>\n",
    "\n",
    "The next 10 places of the vector correspond to the atomic volume, again is a continuous number then it is divided into 10 categories where each category is a range of values, in this case given that the atomic volume values are large, logarithm is applied to scale down and thus the range log values go from 1.5 $cm³/mol$ to 4.3 $ cm³/mol$ thus the first category will go from 1.5-1.78, the second from 1.78-2.06 ... and the tenth category from 4.02-4.3.    "
   ]
  },
  {
   "cell_type": "code",
   "execution_count": 16,
   "id": "8091705b",
   "metadata": {},
   "outputs": [
    {
     "name": "stdout",
     "output_type": "stream",
     "text": [
      "The atomic volume as one hot encoding of the element H is: \n",
      " [0. 0. 0. 0. 1. 0. 0. 0. 0. 0.]\n",
      "The atomic volume as one hot encoding of the element La is: \n",
      " [0. 0. 0. 0. 0. 1. 0. 0. 0. 0.]\n"
     ]
    }
   ],
   "source": [
    "print('The atomic volume as one hot encoding of the element H is: \\n',H_feature_vector[82:92])\n",
    "print('The atomic volume as one hot encoding of the element La is: \\n',La_feature_vector[82:92])"
   ]
  },
  {
   "cell_type": "markdown",
   "id": "3038c7d4",
   "metadata": {},
   "source": [
    "##  Bond feature"
   ]
  },
  {
   "cell_type": "markdown",
   "id": "937b06c9",
   "metadata": {},
   "source": [
    "<font size=4>\n",
    "\n",
    "For the bond properties a class is also created to expand the distances already given with a Gaussian basis\n",
    "    \n",
    "The Gaussian filter is defined as follows\n",
    "\n",
    "$$e^{-\\left(\\frac{(d-\\mu_k)^2}{\\sigma^²}\\right)}$$\n",
    "    \n",
    "with $d$ the interactomic distance, $µ_k$ (also named as the filter) is equally spaced ( length k ) in the interval $[0,r_{cut}]$, and $\\sigma=k$ representing the step size of the distances.\n",
    "Hyperparameter $\\sigma$ define the granularity of the representation, and determine the precision of the filter. $\\sigma$ is  set to $0.2 Å$ in the paper."
   ]
  },
  {
   "cell_type": "code",
   "execution_count": 17,
   "id": "7a132dfa",
   "metadata": {},
   "outputs": [],
   "source": [
    "class GaussianDistance(object):\n",
    "    \"\"\"\n",
    "    Expands the distance by Gaussian basis.\n",
    "\n",
    "    Unit: angstrom\n",
    "    \"\"\"\n",
    "    def __init__(self, dmin, dmax, step, var=None):\n",
    "        \"\"\"\n",
    "        Parameters\n",
    "        ----------\n",
    "\n",
    "        dmin: float\n",
    "          Minimum interatomic distance\n",
    "        dmax: float\n",
    "          Maximum interatomic distance\n",
    "        step: float\n",
    "          Step size for the Gaussian filter\n",
    "        \"\"\"\n",
    "        assert dmin < dmax\n",
    "        assert dmax - dmin > step  #Check if the distance of the interval is larger than the step\n",
    "        self.filter = np.arange(dmin, dmax+step, step) #define filter \n",
    "        if var is None: #Var is sigma \n",
    "            var = step  #\n",
    "        self.var = var\n",
    "\n",
    "    def expand(self, distances):\n",
    "        \"\"\"\n",
    "        Apply Gaussian distance filter to a numpy distance array\n",
    "\n",
    "        Parameters\n",
    "        ----------\n",
    "\n",
    "        distance: np.array shape n-d array\n",
    "          A distance matrix of any shape\n",
    "\n",
    "        Returns\n",
    "        -------\n",
    "        expanded_distance: shape (n+1)-d array\n",
    "          Expanded distance matrix with the last dimension of length\n",
    "          len(self.filter)\n",
    "        \"\"\"\n",
    "        return np.exp(-(distances[..., np.newaxis] - self.filter)**2 /\n",
    "                      self.var**2)"
   ]
  },
  {
   "cell_type": "code",
   "execution_count": 56,
   "id": "03e99e25",
   "metadata": {},
   "outputs": [
    {
     "name": "stdout",
     "output_type": "stream",
     "text": [
      "[0.  0.2 0.4 0.6 0.8 1.  1.2 1.4 1.6 1.8 2.  2.2 2.4 2.6 2.8 3.  3.2 3.4\n",
      " 3.6 3.8 4.  4.2 4.4 4.6 4.8 5. ]\n",
      "26\n"
     ]
    }
   ],
   "source": [
    "step=.2 \n",
    "r_cut=5\n",
    "filt=np.arange(0, r_cut+step,step)\n",
    "print(filt)\n",
    "print(len(filt))"
   ]
  },
  {
   "cell_type": "code",
   "execution_count": 53,
   "id": "501dd663",
   "metadata": {},
   "outputs": [
    {
     "data": {
      "text/plain": [
       "array([[ 1. ,  0.8,  0.6,  0.4,  0.2,  0. , -0.2, -0.4, -0.6, -0.8, -1. ,\n",
       "        -1.2, -1.4, -1.6, -1.8, -2. , -2.2, -2.4, -2.6, -2.8, -3. , -3.2,\n",
       "        -3.4, -3.6, -3.8, -4. , -4.2, -4.4, -4.6, -4.8, -5. , -5.2, -5.4,\n",
       "        -5.6, -5.8, -6. , -6.2, -6.4, -6.6, -6.8, -7. ],\n",
       "       [ 2. ,  1.8,  1.6,  1.4,  1.2,  1. ,  0.8,  0.6,  0.4,  0.2,  0. ,\n",
       "        -0.2, -0.4, -0.6, -0.8, -1. , -1.2, -1.4, -1.6, -1.8, -2. , -2.2,\n",
       "        -2.4, -2.6, -2.8, -3. , -3.2, -3.4, -3.6, -3.8, -4. , -4.2, -4.4,\n",
       "        -4.6, -4.8, -5. , -5.2, -5.4, -5.6, -5.8, -6. ],\n",
       "       [ 3. ,  2.8,  2.6,  2.4,  2.2,  2. ,  1.8,  1.6,  1.4,  1.2,  1. ,\n",
       "         0.8,  0.6,  0.4,  0.2,  0. , -0.2, -0.4, -0.6, -0.8, -1. , -1.2,\n",
       "        -1.4, -1.6, -1.8, -2. , -2.2, -2.4, -2.6, -2.8, -3. , -3.2, -3.4,\n",
       "        -3.6, -3.8, -4. , -4.2, -4.4, -4.6, -4.8, -5. ]])"
      ]
     },
     "execution_count": 53,
     "metadata": {},
     "output_type": "execute_result"
    }
   ],
   "source": [
    "distances=np.array([1,2,3])\n",
    "apply_filter=distances[...,np.newaxis]-filt\n",
    "apply_filter"
   ]
  },
  {
   "cell_type": "code",
   "execution_count": 54,
   "id": "98c71dd4",
   "metadata": {},
   "outputs": [
    {
     "data": {
      "text/plain": [
       "array([[1.38879439e-011, 1.12535175e-007, 1.23409804e-004,\n",
       "        1.83156389e-002, 3.67879441e-001, 1.00000000e+000,\n",
       "        3.67879441e-001, 1.83156389e-002, 1.23409804e-004,\n",
       "        1.12535175e-007, 1.38879439e-011, 2.31952283e-016,\n",
       "        5.24288566e-022, 1.60381089e-028, 6.63967720e-036,\n",
       "        3.72007598e-044, 2.82077009e-053, 2.89464031e-063,\n",
       "        4.02006022e-074, 7.55581902e-086, 1.92194773e-098,\n",
       "        6.61626106e-112, 3.08244070e-126, 1.94351485e-141,\n",
       "        1.65841048e-157, 1.91516960e-174, 2.99318445e-192,\n",
       "        6.33097734e-211, 1.81225403e-230, 7.02066780e-251,\n",
       "        3.68085585e-272, 2.61174176e-294, 2.50797208e-317,\n",
       "        0.00000000e+000, 0.00000000e+000, 0.00000000e+000,\n",
       "        0.00000000e+000, 0.00000000e+000, 0.00000000e+000,\n",
       "        0.00000000e+000, 0.00000000e+000],\n",
       "       [3.72007598e-044, 6.63967720e-036, 1.60381089e-028,\n",
       "        5.24288566e-022, 2.31952283e-016, 1.38879439e-011,\n",
       "        1.12535175e-007, 1.23409804e-004, 1.83156389e-002,\n",
       "        3.67879441e-001, 1.00000000e+000, 3.67879441e-001,\n",
       "        1.83156389e-002, 1.23409804e-004, 1.12535175e-007,\n",
       "        1.38879439e-011, 2.31952283e-016, 5.24288566e-022,\n",
       "        1.60381089e-028, 6.63967720e-036, 3.72007598e-044,\n",
       "        2.82077009e-053, 2.89464031e-063, 4.02006022e-074,\n",
       "        7.55581902e-086, 1.92194773e-098, 6.61626106e-112,\n",
       "        3.08244070e-126, 1.94351485e-141, 1.65841048e-157,\n",
       "        1.91516960e-174, 2.99318445e-192, 6.33097734e-211,\n",
       "        1.81225403e-230, 7.02066780e-251, 3.68085585e-272,\n",
       "        2.61174176e-294, 2.50797208e-317, 0.00000000e+000,\n",
       "        0.00000000e+000, 0.00000000e+000],\n",
       "       [1.92194773e-098, 7.55581902e-086, 4.02006022e-074,\n",
       "        2.89464031e-063, 2.82077009e-053, 3.72007598e-044,\n",
       "        6.63967720e-036, 1.60381089e-028, 5.24288566e-022,\n",
       "        2.31952283e-016, 1.38879439e-011, 1.12535175e-007,\n",
       "        1.23409804e-004, 1.83156389e-002, 3.67879441e-001,\n",
       "        1.00000000e+000, 3.67879441e-001, 1.83156389e-002,\n",
       "        1.23409804e-004, 1.12535175e-007, 1.38879439e-011,\n",
       "        2.31952283e-016, 5.24288566e-022, 1.60381089e-028,\n",
       "        6.63967720e-036, 3.72007598e-044, 2.82077009e-053,\n",
       "        2.89464031e-063, 4.02006022e-074, 7.55581902e-086,\n",
       "        1.92194773e-098, 6.61626106e-112, 3.08244070e-126,\n",
       "        1.94351485e-141, 1.65841048e-157, 1.91516960e-174,\n",
       "        2.99318445e-192, 6.33097734e-211, 1.81225403e-230,\n",
       "        7.02066780e-251, 3.68085585e-272]])"
      ]
     },
     "execution_count": 54,
     "metadata": {},
     "output_type": "execute_result"
    }
   ],
   "source": [
    "apply_gaussian=np.exp(-(apply_filter)**2 /\n",
    "                      step**2)\n",
    "apply_gaussian"
   ]
  },
  {
   "cell_type": "code",
   "execution_count": 55,
   "id": "d1c6ac2a",
   "metadata": {},
   "outputs": [
    {
     "data": {
      "image/png": "[encoded data removed]",
      "text/plain": [
       "<Figure size 432x288 with 1 Axes>"
      ]
     },
     "metadata": {
      "needs_background": "light"
     },
     "output_type": "display_data"
    }
   ],
   "source": [
    "import matplotlib.pyplot as plt\n",
    "plt.plot(apply_filter[0],apply_gaussian[0])\n",
    "plt.show()"
   ]
  },
  {
   "cell_type": "code",
   "execution_count": null,
   "id": "1ecdd1a2",
   "metadata": {},
   "outputs": [],
   "source": []
  }
 ],
 "metadata": {
  "interpreter": {
   "hash": "8b5c71f93099a85b2d72eec931b84f651c0c07cdd127fc1ddf9c52d2b5c494f5"
  },
  "kernelspec": {
   "display_name": "Python 3.8.12 ('cgcnn')",
   "language": "python",
   "name": "python3"
  },
  "language_info": {
   "codemirror_mode": {
    "name": "ipython",
    "version": 3
   },
   "file_extension": ".py",
   "mimetype": "text/x-python",
   "name": "python",
   "nbconvert_exporter": "python",
   "pygments_lexer": "ipython3",
   "version": "3.8.12"
  }
 },
 "nbformat": 4,
 "nbformat_minor": 5
}
