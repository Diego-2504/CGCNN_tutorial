{
 "cells": [
  {
   "cell_type": "code",
   "execution_count": 1,
   "id": "57ebd081",
   "metadata": {},
   "outputs": [
    {
     "ename": "ImportError",
     "evalue": "cannot import name 'CIFData' from 'data' (/home/mlgraphs/anaconda3/envs/graphnet/lib/python3.10/site-packages/data/__init__.py)",
     "output_type": "error",
     "traceback": [
      "\u001b[0;31m---------------------------------------------------------------------------\u001b[0m",
      "\u001b[0;31mImportError\u001b[0m                               Traceback (most recent call last)",
      "Input \u001b[0;32mIn [1]\u001b[0m, in \u001b[0;36m<cell line: 6>\u001b[0;34m()\u001b[0m\n\u001b[1;32m      4\u001b[0m \u001b[38;5;28;01mimport\u001b[39;00m \u001b[38;5;21;01mtorch\u001b[39;00m\n\u001b[1;32m      5\u001b[0m \u001b[38;5;28;01mimport\u001b[39;00m \u001b[38;5;21;01mtorch\u001b[39;00m\u001b[38;5;21;01m.\u001b[39;00m\u001b[38;5;21;01mnn\u001b[39;00m \u001b[38;5;28;01mas\u001b[39;00m \u001b[38;5;21;01mnn\u001b[39;00m\n\u001b[0;32m----> 6\u001b[0m \u001b[38;5;28;01mfrom\u001b[39;00m \u001b[38;5;21;01mdata\u001b[39;00m \u001b[38;5;28;01mimport\u001b[39;00m CIFData   \u001b[38;5;66;03m#CIFData is the code of the article in charge of processing the data, \u001b[39;00m\n\u001b[1;32m      7\u001b[0m \u001b[38;5;66;03m#it does practically everything that was already developed at the beginning of the notebook.\u001b[39;00m\n\u001b[1;32m      8\u001b[0m \u001b[38;5;28;01mfrom\u001b[39;00m \u001b[38;5;21;01mdata\u001b[39;00m \u001b[38;5;28;01mimport\u001b[39;00m get_train_val_test_loader \u001b[38;5;66;03m#This article code is in charge of splitting the data \u001b[39;00m\n",
      "\u001b[0;31mImportError\u001b[0m: cannot import name 'CIFData' from 'data' (/home/mlgraphs/anaconda3/envs/graphnet/lib/python3.10/site-packages/data/__init__.py)"
     ]
    }
   ],
   "source": [
    "import numpy as np\n",
    "import torch.optim as optim # subpackage implementing various optimization algorithms\n",
    "#from sklearn import metrics \n",
    "import torch\n",
    "import torch.nn as nn\n",
    "from data import CIFData   #CIFData is the code of the article in charge of processing the data, \n",
    "#it does practically everything that was already developed at the beginning of the notebook.\n",
    "from data import get_train_val_test_loader #This article code is in charge of splitting the data \n",
    "#and uploading it to pytorch.\n",
    "from data import collate_pool \n",
    "from torch.autograd import Variable\n",
    "from model import CrystalGraphConvNet "
   ]
  },
  {
   "cell_type": "code",
   "execution_count": 2,
   "id": "b4515e15",
   "metadata": {},
   "outputs": [
    {
     "data": {
      "text/plain": [
       "True"
      ]
     },
     "execution_count": 2,
     "metadata": {},
     "output_type": "execute_result"
    }
   ],
   "source": [
    "#Check if pytorch recognizes your GPU\n",
    "torch.cuda.is_available()"
   ]
  },
  {
   "cell_type": "code",
   "execution_count": 3,
   "id": "eeb2fbee",
   "metadata": {},
   "outputs": [],
   "source": [
    "dataset = CIFData('/home/mlgraphs/CGCNN/cgcnn/data/complete-data') #Read the data "
   ]
  },
  {
   "cell_type": "code",
   "execution_count": 4,
   "id": "c738acd8",
   "metadata": {},
   "outputs": [],
   "source": [
    "collate_fn = collate_pool\n",
    "#Split the data list \n",
    "train_loader, val_loader, test_loader = get_train_val_test_loader(\n",
    "    dataset=dataset,\n",
    "    collate_fn=collate_fn,\n",
    "    batch_size=64,\n",
    "    train_ratio=.8,\n",
    "    val_ratio=.15,\n",
    "    test_ratio=.05,\n",
    "    train_size=None,\n",
    "    val_size=None,\n",
    "    test_size=None,\n",
    "    return_test=True)"
   ]
  },
  {
   "cell_type": "code",
   "execution_count": 5,
   "id": "416068c1",
   "metadata": {},
   "outputs": [
    {
     "data": {
      "text/plain": [
       "CrystalGraphConvNet(\n",
       "  (embedding): Linear(in_features=92, out_features=20, bias=True)\n",
       "  (convs): ModuleList(\n",
       "    (0): ConvLayer(\n",
       "      (fc_full): Linear(in_features=81, out_features=40, bias=True)\n",
       "      (sigmoid): Sigmoid()\n",
       "      (softplus1): Softplus(beta=1, threshold=20)\n",
       "      (bn1): BatchNorm1d(40, eps=1e-05, momentum=0.1, affine=True, track_running_stats=True)\n",
       "      (bn2): BatchNorm1d(20, eps=1e-05, momentum=0.1, affine=True, track_running_stats=True)\n",
       "      (softplus2): Softplus(beta=1, threshold=20)\n",
       "    )\n",
       "  )\n",
       "  (conv_to_fc): Linear(in_features=20, out_features=10, bias=True)\n",
       "  (conv_to_fc_softplus): Softplus(beta=1, threshold=20)\n",
       "  (fcs): ModuleList(\n",
       "    (0): Linear(in_features=10, out_features=10, bias=True)\n",
       "    (1): Linear(in_features=10, out_features=10, bias=True)\n",
       "    (2): Linear(in_features=10, out_features=10, bias=True)\n",
       "    (3): Linear(in_features=10, out_features=10, bias=True)\n",
       "  )\n",
       "  (softpluses): ModuleList(\n",
       "    (0): Softplus(beta=1, threshold=20)\n",
       "    (1): Softplus(beta=1, threshold=20)\n",
       "    (2): Softplus(beta=1, threshold=20)\n",
       "    (3): Softplus(beta=1, threshold=20)\n",
       "  )\n",
       "  (fc_out): Linear(in_features=10, out_features=1, bias=True)\n",
       ")"
      ]
     },
     "execution_count": 5,
     "metadata": {},
     "output_type": "execute_result"
    }
   ],
   "source": [
    "structures, _, _ = dataset[0]\n",
    "orig_atom_fea_len = structures[0].shape[-1]\n",
    "nbr_fea_len = structures[1].shape[-1]\n",
    "model = CrystalGraphConvNet(orig_atom_fea_len, nbr_fea_len,\n",
    "                            atom_fea_len=20,\n",
    "                            n_conv=1,\n",
    "                            h_fea_len=10,\n",
    "                            n_h=5,\n",
    "                            classification=False)\n",
    "model.cuda() #Transfer the model to gpu "
   ]
  },
  {
   "cell_type": "code",
   "execution_count": 6,
   "id": "17ba0cf3",
   "metadata": {},
   "outputs": [],
   "source": [
    "criterion = nn.MSELoss() #Declare the mean square error loss function\n",
    "optimizer = optim.Adam(model.parameters(),0.001) #Declare the Adam optimizer"
   ]
  },
  {
   "cell_type": "code",
   "execution_count": 7,
   "id": "289f906a",
   "metadata": {},
   "outputs": [],
   "source": [
    "def train(data_loader):\n",
    "    model.train()\n",
    "    for i, (input, target,_) in enumerate(data_loader):\n",
    "        #Transfer the data to gpu \n",
    "        input_var = (Variable(input[0].cuda(non_blocking=True)),\n",
    "                         Variable(input[1].cuda(non_blocking=True)),\n",
    "                         input[2].cuda(non_blocking=True),\n",
    "                         [crys_idx.cuda(non_blocking=True) for crys_idx in input[3]])\n",
    "        target_var=Variable(target.cuda(non_blocking=True))\n",
    "        optimizer.zero_grad()  # Clear gradients.\n",
    "        outputs    = model(*input_var)  # Perform a single forward pass.\n",
    "        loss   = criterion(outputs, target_var)  # Compute the loss \n",
    "        loss.backward()  # Derive gradients.\n",
    "        optimizer.step()  # Update parameters based on gradients.\n",
    "     \n",
    "    return loss.item()"
   ]
  },
  {
   "cell_type": "code",
   "execution_count": 8,
   "id": "7ead8f87",
   "metadata": {},
   "outputs": [],
   "source": [
    "def mae(prediction, target):\n",
    "    \"\"\"\n",
    "    Computes the mean absolute error between prediction and target\n",
    "\n",
    "    Parameters\n",
    "    ----------\n",
    "\n",
    "    prediction: torch.Tensor (N, 1)\n",
    "    target: torch.Tensor (N, 1)\n",
    "    \"\"\"\n",
    "    return torch.mean(torch.abs(target - prediction))"
   ]
  },
  {
   "cell_type": "code",
   "execution_count": 9,
   "id": "c9c7a539",
   "metadata": {},
   "outputs": [],
   "source": [
    "def test(data_loader):\n",
    "# since we're not training, we don't need to calculate the gradients for our outputs\n",
    "#It will reduce memory consumption\n",
    "    model.eval()\n",
    "    with torch.no_grad():  \n",
    "        for i, (input, target,_) in enumerate(data_loader):\n",
    "            input_var = (Variable(input[0].cuda(non_blocking=True)),\n",
    "                         Variable(input[1].cuda(non_blocking=True)),\n",
    "                         input[2].cuda(non_blocking=True),\n",
    "                         [crys_idx.cuda(non_blocking=True) for crys_idx in input[3]])\n",
    "            target_var = Variable(target.cuda(non_blocking=True))\n",
    "            output = model(*input_var)\n",
    "            mae_error=mae(target_var, output)\n",
    "    return mae_error.item()"
   ]
  },
  {
   "cell_type": "code",
   "execution_count": null,
   "id": "0e99f3fc",
   "metadata": {},
   "outputs": [
    {
     "name": "stderr",
     "output_type": "stream",
     "text": [
      "/home/mlgraphs/anaconda3/envs/cgcnn/lib/python3.8/site-packages/pymatgen/io/cif.py:1160: UserWarning: Issues encountered while parsing CIF: Some fractional coordinates rounded to ideal values to avoid issues with finite precision.\n",
      "  warnings.warn(\"Issues encountered while parsing CIF: %s\" % \"\\n\".join(self.warnings))\n",
      "/home/mlgraphs/anaconda3/envs/cgcnn/lib/python3.8/site-packages/pymatgen/io/cif.py:1160: UserWarning: Issues encountered while parsing CIF: Some fractional coordinates rounded to ideal values to avoid issues with finite precision.\n",
      "  warnings.warn(\"Issues encountered while parsing CIF: %s\" % \"\\n\".join(self.warnings))\n",
      "/home/mlgraphs/anaconda3/envs/cgcnn/lib/python3.8/site-packages/pymatgen/io/cif.py:1160: UserWarning: Issues encountered while parsing CIF: Some fractional coordinates rounded to ideal values to avoid issues with finite precision.\n",
      "  warnings.warn(\"Issues encountered while parsing CIF: %s\" % \"\\n\".join(self.warnings))\n",
      "/home/mlgraphs/anaconda3/envs/cgcnn/lib/python3.8/site-packages/pymatgen/io/cif.py:1160: UserWarning: Issues encountered while parsing CIF: Some fractional coordinates rounded to ideal values to avoid issues with finite precision.\n",
      "  warnings.warn(\"Issues encountered while parsing CIF: %s\" % \"\\n\".join(self.warnings))\n"
     ]
    },
    {
     "name": "stdout",
     "output_type": "stream",
     "text": [
      "Epoch:   0, Loss: 0.7381, Acc: 0.8770, val_loss: 1.1674,val_acc: 0.7893\n"
     ]
    },
    {
     "name": "stderr",
     "output_type": "stream",
     "text": [
      "/home/mlgraphs/anaconda3/envs/cgcnn/lib/python3.8/site-packages/pymatgen/io/cif.py:1160: UserWarning: Issues encountered while parsing CIF: Some fractional coordinates rounded to ideal values to avoid issues with finite precision.\n",
      "  warnings.warn(\"Issues encountered while parsing CIF: %s\" % \"\\n\".join(self.warnings))\n",
      "/home/mlgraphs/anaconda3/envs/cgcnn/lib/python3.8/site-packages/pymatgen/io/cif.py:1160: UserWarning: Issues encountered while parsing CIF: Some fractional coordinates rounded to ideal values to avoid issues with finite precision.\n",
      "  warnings.warn(\"Issues encountered while parsing CIF: %s\" % \"\\n\".join(self.warnings))\n",
      "/home/mlgraphs/anaconda3/envs/cgcnn/lib/python3.8/site-packages/pymatgen/io/cif.py:1160: UserWarning: Issues encountered while parsing CIF: Some fractional coordinates rounded to ideal values to avoid issues with finite precision.\n",
      "  warnings.warn(\"Issues encountered while parsing CIF: %s\" % \"\\n\".join(self.warnings))\n"
     ]
    }
   ],
   "source": [
    "epochs=10\n",
    "#Lists where we are going to store the losses and acuraccies\n",
    "t_l =[]\n",
    "t_a =[]\n",
    "v_l =[]\n",
    "v_a =[]\n",
    "\n",
    "#Seed to reproduce the same values\n",
    "np.random.seed(1)\n",
    "for epoch in range(epochs+1):\n",
    "    train_loss= train(train_loader)\n",
    "    val_loss = train(val_loader)\n",
    "    train_acc= test(train_loader)\n",
    "    val_acc = test(val_loader)\n",
    "    #Save the losses and accuracies to be plotted later \n",
    "    t_l.append(train_loss)\n",
    "    t_a.append(train_acc)\n",
    "    v_l.append(val_loss)\n",
    "    v_a.append(val_acc)\n",
    "    \n",
    "    #Print every 10 epochs \n",
    "    print(f'Epoch: {epoch:3d}, Loss: {train_loss:.4f}, Acc: {train_acc:.4f}, val_loss: {val_loss:.4f},val_acc: {val_acc:.4f}')\n",
    "    #print(f'Epoch: {epoch:3d}, Loss: {train_loss:.4f}, val_loss: {val_loss:.4f}')"
   ]
  },
  {
   "cell_type": "code",
   "execution_count": null,
   "id": "cf401916",
   "metadata": {},
   "outputs": [],
   "source": [
    "import matplotlib.pyplot as plt\n",
    "plt.plot(t_a)\n",
    "plt.plot(v_a)\n",
    "plt.xlabel('epoch')\n",
    "plt.ylabel('MAE')\n",
    "plt.legend(['Train','Valid'])\n",
    "plt.title('Train vs Valid MAE')\n",
    " \n",
    "plt.show()"
   ]
  },
  {
   "cell_type": "code",
   "execution_count": null,
   "id": "592c5fba",
   "metadata": {},
   "outputs": [],
   "source": [
    "plt.plot(t_l)\n",
    "plt.plot(v_l)\n",
    "plt.xlabel('epoch')\n",
    "plt.ylabel('losses')\n",
    "plt.legend(['Train','Valid'])\n",
    "plt.title('Train vs Valid Losses')\n",
    " \n",
    "plt.show()"
   ]
  },
  {
   "cell_type": "code",
   "execution_count": null,
   "id": "054815af",
   "metadata": {},
   "outputs": [],
   "source": [
    "y_hat=[]\n",
    "y=[]\n",
    "for i, (input, target,_) in enumerate(test_loader):\n",
    "    input_var = (Variable(input[0].cuda(non_blocking=True)),\n",
    "                         Variable(input[1].cuda(non_blocking=True)),\n",
    "                         input[2].cuda(non_blocking=True),\n",
    "                         [crys_idx.cuda(non_blocking=True) for crys_idx in input[3]])\n",
    "    target_var = Variable(target.cuda(non_blocking=True))\n",
    "    pred = model(*input_var)\n",
    "    y_hat.append(pred)\n",
    "    y.append(target_var)"
   ]
  },
  {
   "cell_type": "code",
   "execution_count": null,
   "id": "fad393a4",
   "metadata": {},
   "outputs": [],
   "source": [
    "y_1_hat=y_hat[0].data.cpu().numpy()\n",
    "y_1=y[0].data.cpu().numpy()"
   ]
  },
  {
   "cell_type": "code",
   "execution_count": null,
   "id": "9713e545",
   "metadata": {},
   "outputs": [],
   "source": [
    "print(y_1_hat[:10])\n",
    "print(y_1[:10])"
   ]
  }
 ],
 "metadata": {
  "kernelspec": {
   "display_name": "Python 3 (ipykernel)",
   "language": "python",
   "name": "python3"
  },
  "language_info": {
   "codemirror_mode": {
    "name": "ipython",
    "version": 3
   },
   "file_extension": ".py",
   "mimetype": "text/x-python",
   "name": "python",
   "nbconvert_exporter": "python",
   "pygments_lexer": "ipython3",
   "version": "3.10.5"
  }
 },
 "nbformat": 4,
 "nbformat_minor": 5
}
