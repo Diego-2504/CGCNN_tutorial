{
 "cells": [
  {
   "cell_type": "markdown",
   "id": "239ca25e",
   "metadata": {},
   "source": [
    "# Materials data used in the paper"
   ]
  },
  {
   "cell_type": "markdown",
   "id": "fdcef39a",
   "metadata": {},
   "source": [
    "<font size=4> \n",
    "    \n",
    "The material structures and properties used in their article of [Crystal Graph Convolutional Neural Networks for an Accurate and Interpretable Prediction of Material Properties](https://arxiv.org/pdf/1710.10324.pdf)  are downloaded from the following two open datasets.\n",
    "\n",
    "- The Materials Project database [[link](https://www.materialsproject.org)]\n",
    "- The Perovskite database [[link](https://cmr.fysik.dtu.dk/cubic_perovskites/cubic_perovskites.html)]\n",
    "\n",
    "They cannot redistribute these two datasets. Users should download these data by themselves and convert them into proper formats, so this notebook is intended to do just that.\n",
    "\n",
    "To reproduce their results exactly, they provide three CSV files that include the materials IDs of the crystals they used in their paper. Note that the Materials Project database is contantly updating, so the structures and properties may have changed since the publication of their paper.\n",
    "    \n",
    "What we will do first is to read the smallest CSV file "
   ]
  },
  {
   "cell_type": "code",
   "execution_count": 30,
   "id": "ef0c0805",
   "metadata": {},
   "outputs": [],
   "source": [
    "import csv #Package to read csv files"
   ]
  },
  {
   "cell_type": "code",
   "execution_count": 31,
   "id": "46599dcc",
   "metadata": {},
   "outputs": [],
   "source": [
    "materials_id=[] #List to store the materials project id\n",
    "with open('/home/mlgraphs/CGCNN/cgcnn/data/material-data/mp-ids-46744.csv') as csv_file: #Open the csv file\n",
    "    csv_reader = csv.reader(csv_file) #Read the csv file \n",
    "    for row in csv_reader: #Loop over the rows\n",
    "        materials_id.append(row[0]) #Add the material id to the list"
   ]
  },
  {
   "cell_type": "code",
   "execution_count": 21,
   "id": "5c0fec24",
   "metadata": {},
   "outputs": [
    {
     "name": "stdout",
     "output_type": "stream",
     "text": [
      "The materials ID of the first crystal is:  mp-754118\n",
      "The total number of crystals is:  46744\n"
     ]
    }
   ],
   "source": [
    "print('The materials ID of the first crystal is: ',materials_id[0])\n",
    "print('The total number of crystals is: ',len(materials_id))"
   ]
  },
  {
   "cell_type": "code",
   "execution_count": 22,
   "id": "eeeff67b",
   "metadata": {},
   "outputs": [],
   "source": [
    "from pymatgen.ext.matproj import MPRester  #Pymatgen (Python Materials Genomics) is a robust, \n",
    "#open-source Python library for materials analysis."
   ]
  },
  {
   "cell_type": "code",
   "execution_count": 23,
   "id": "50c09385",
   "metadata": {},
   "outputs": [
    {
     "data": {
      "text/plain": [
       "Structure Summary\n",
       "Lattice\n",
       "    abc : 4.947149500881695 4.947149500881695 5.523342\n",
       " angles : 90.0 90.0 119.99999332516595\n",
       " volume : 117.06920404587619\n",
       "      A : 2.473575 -4.284357 0.0\n",
       "      B : 2.473575 4.284357 0.0\n",
       "      C : 0.0 0.0 5.523342\n",
       "PeriodicSite: Sr (0.0000, 0.0000, 0.0000) [0.0000, 0.0000, 0.0000]\n",
       "PeriodicSite: As (2.4736, 1.4281, 2.7617) [0.3333, 0.6667, 0.5000]\n",
       "PeriodicSite: As (2.4736, -1.4281, 2.7617) [0.6667, 0.3333, 0.5000]\n",
       "PeriodicSite: O (1.5275, 2.6457, 3.8195) [0.0000, 0.6175, 0.6915]\n",
       "PeriodicSite: O (0.9461, 1.6387, 1.7039) [0.0000, 0.3825, 0.3085]\n",
       "PeriodicSite: O (1.8922, -0.0000, 3.8195) [0.3825, 0.3825, 0.6915]\n",
       "PeriodicSite: O (3.0549, -0.0000, 1.7039) [0.6175, 0.6175, 0.3085]\n",
       "PeriodicSite: O (0.9461, -1.6387, 1.7039) [0.3825, 0.0000, 0.3085]\n",
       "PeriodicSite: O (1.5275, -2.6457, 3.8195) [0.6175, 0.0000, 0.6915]"
      ]
     },
     "execution_count": 23,
     "metadata": {},
     "output_type": "execute_result"
    }
   ],
   "source": [
    "MAPI_KEY = \"lqhpkTOZo39u7SAV\"  # Materials API key\n",
    "mp_id = materials_id[0]  # mp-id \n",
    "mpr = MPRester(MAPI_KEY)  # object for connecting to MP Rest interface\n",
    "mp_id=mpr.get_materials_id_from_task_id(mp_id)\n",
    "structure = mpr.get_structure_by_material_id(mp_id) #read structure in pymatgen\n",
    "structure #print structure summary"
   ]
  },
  {
   "cell_type": "code",
   "execution_count": 24,
   "id": "3fc14691",
   "metadata": {},
   "outputs": [],
   "source": [
    "from pymatgen.io.cif import CifWriter #Package to convert pymatgen structure to cif file"
   ]
  },
  {
   "cell_type": "code",
   "execution_count": 7,
   "id": "4be2053c",
   "metadata": {},
   "outputs": [],
   "source": [
    "CifWriter(structure,0.1).write_file('data/complete-data/'+mp_id+'.cif') #Convert to a cif file and \n",
    "#store it in data/complete-data"
   ]
  },
  {
   "cell_type": "code",
   "execution_count": 11,
   "id": "c895f854",
   "metadata": {},
   "outputs": [],
   "source": [
    "current=[]"
   ]
  },
  {
   "cell_type": "code",
   "execution_count": 29,
   "id": "608e14e4",
   "metadata": {},
   "outputs": [
    {
     "name": "stdout",
     "output_type": "stream",
     "text": [
      "45000\n",
      "45100\n",
      "45200\n",
      "45300\n",
      "45400\n",
      "45500\n",
      "45600\n",
      "45700\n",
      "45800\n",
      "45900\n",
      "46000\n",
      "46100\n",
      "46200\n",
      "46300\n",
      "46400\n",
      "46500\n",
      "46600\n",
      "46700\n"
     ]
    }
   ],
   "source": [
    "#Just run the cell once to create cif files\n",
    "for i in range(1744):\n",
    "    i=45000+i\n",
    "    mp_id_i = materials_id[i]\n",
    "    mp_id_i=mpr.get_materials_id_from_task_id(mp_id_i)\n",
    "    structure_i = mpr.get_structure_by_material_id(mp_id_i)\n",
    "    CifWriter(structure_i,0.1).write_file('data/complete-data/'+mp_id_i+'.cif')\n",
    "    if i%100==0:\n",
    "        print(i)"
   ]
  },
  {
   "cell_type": "code",
   "execution_count": null,
   "id": "d20ee151",
   "metadata": {},
   "outputs": [],
   "source": []
  }
 ],
 "metadata": {
  "kernelspec": {
   "display_name": "Python 3 (ipykernel)",
   "language": "python",
   "name": "python3"
  },
  "language_info": {
   "codemirror_mode": {
    "name": "ipython",
    "version": 3
   },
   "file_extension": ".py",
   "mimetype": "text/x-python",
   "name": "python",
   "nbconvert_exporter": "python",
   "pygments_lexer": "ipython3",
   "version": "3.8.12"
  }
 },
 "nbformat": 4,
 "nbformat_minor": 5
}
